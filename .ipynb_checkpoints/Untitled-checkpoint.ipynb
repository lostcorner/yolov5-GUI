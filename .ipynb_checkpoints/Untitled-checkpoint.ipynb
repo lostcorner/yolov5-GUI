{
 "cells": [
  {
   "cell_type": "code",
   "execution_count": 1,
   "metadata": {},
   "outputs": [],
   "source": [
    "cls={\"可回收物\": {\n",
    "        \"充电宝\",\n",
    "        \"包\",\n",
    "        \"洗护用品\",\n",
    "        \"塑料玩具\",\n",
    "        \"塑料器皿\",\n",
    "        \"塑料衣架\",\n",
    "        \"玻璃器皿\",\n",
    "        \"金属器皿\",\n",
    "        \"快递纸袋\",\n",
    "        \"插头电线\",\n",
    "        \"旧衣服\",\n",
    "        \"易拉罐\",\n",
    "        \"枕头\",\n",
    "        \"毛绒玩具\",\n",
    "        \"鞋\",\n",
    "        \"砧板\",\n",
    "        \"纸盒纸箱\",\n",
    "        \"调料瓶\",\n",
    "        \"酒瓶\",\n",
    "        \"金属食品罐\",\n",
    "        \"金属厨具\",\n",
    "        \"锅\",\n",
    "        \"食用油桶\",\n",
    "        \"饮料瓶\",\n",
    "        \"书籍纸张\",\n",
    "        \"垃圾桶\",\n",
    "        \"塑料厨具\",\n",
    "        \"毛巾\",\n",
    "        \"纸袋\",\n",
    "        \"饮料盒\"\n",
    "},\n",
    "    \"厨余垃圾\": {\n",
    "        \"剩饭剩菜\",\n",
    "        \"大骨头\",\n",
    "        \"果皮果肉\",\n",
    "        \"茶叶渣\",\n",
    "        \"菜帮菜叶\",\n",
    "        \"蛋壳\",\n",
    "        \"鱼骨\"\n",
    "},\n",
    "    \"有害垃圾\": {\n",
    "        \"干电池\",\n",
    "        \"软膏\",\n",
    "        \"过期药物\"\n",
    "},\n",
    "    \"其他垃圾\": {\n",
    "        \"一次性快餐盒\",\n",
    "        \"污损塑料\",\n",
    "        \"烟蒂\",\n",
    "        \"牙签\",\n",
    "        \"花盆\",\n",
    "        \"陶瓷器皿\",\n",
    "        \"筷子\",\n",
    "        \"污损用纸\"\n",
    "    }}"
   ]
  },
  {
   "cell_type": "code",
   "execution_count": 2,
   "metadata": {},
   "outputs": [],
   "source": [
    "statistic_dic=[('毛巾', 1), ('一次性快餐盒', 1)]\n",
    "results = [' '+str(i[0]) + '：' + str(i[1]) for i in statistic_dic]"
   ]
  },
  {
   "cell_type": "code",
   "execution_count": 3,
   "metadata": {},
   "outputs": [
    {
     "name": "stdout",
     "output_type": "stream",
     "text": [
      "[('毛巾', 1), ('一次性快餐盒', 1)]\n",
      "[' 毛巾：1', ' 一次性快餐盒：1']\n"
     ]
    }
   ],
   "source": [
    "print(statistic_dic)\n",
    "print(results)"
   ]
  },
  {
   "cell_type": "code",
   "execution_count": 12,
   "metadata": {},
   "outputs": [
    {
     "name": "stdout",
     "output_type": "stream",
     "text": [
      "可回收物\n",
      "其他垃圾\n"
     ]
    }
   ],
   "source": [
    "curr_results = [str(i[0]) for i in statistic_dic]\n",
    "#     print(province.items())\n",
    "for key, val in cls.items():\n",
    "    for trash in curr_results:\n",
    "        if trash in cls[key]:\n",
    "            results = [key + '-'+str(i[0]) + '：' + str(i[1]) for i in statistic_dic]\n",
    "            print(key)\n",
    "            break"
   ]
  },
  {
   "cell_type": "code",
   "execution_count": 13,
   "metadata": {},
   "outputs": [
    {
     "data": {
      "text/plain": [
       "list"
      ]
     },
     "execution_count": 13,
     "metadata": {},
     "output_type": "execute_result"
    }
   ],
   "source": [
    "type(results)"
   ]
  },
  {
   "cell_type": "code",
   "execution_count": null,
   "metadata": {},
   "outputs": [],
   "source": []
  },
  {
   "cell_type": "code",
   "execution_count": 14,
   "metadata": {},
   "outputs": [
    {
     "name": "stdout",
     "output_type": "stream",
     "text": [
      "其他垃圾 毛巾：1\n"
     ]
    }
   ],
   "source": [
    "print(results[0])"
   ]
  },
  {
   "cell_type": "code",
   "execution_count": null,
   "metadata": {},
   "outputs": [],
   "source": [
    "reslut"
   ]
  }
 ],
 "metadata": {
  "kernelspec": {
   "display_name": "Python 3",
   "language": "python",
   "name": "python3"
  },
  "language_info": {
   "codemirror_mode": {
    "name": "ipython",
    "version": 3
   },
   "file_extension": ".py",
   "mimetype": "text/x-python",
   "name": "python",
   "nbconvert_exporter": "python",
   "pygments_lexer": "ipython3",
   "version": "3.7.6"
  }
 },
 "nbformat": 4,
 "nbformat_minor": 4
}
