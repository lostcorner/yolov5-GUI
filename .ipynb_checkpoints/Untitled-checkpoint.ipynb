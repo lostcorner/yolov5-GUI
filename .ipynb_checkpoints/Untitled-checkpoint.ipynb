{
 "cells": [
  {
   "cell_type": "code",
   "execution_count": 12,
   "metadata": {},
   "outputs": [],
   "source": [
    "cls={\"可回收物\": {\"充电宝\",\"包\",\"洗护用品\",\"塑料玩具\",\"塑料器皿\",\"塑料衣架\",\"玻璃器皿\",\"金属器皿\",\"快递纸袋\",\n",
    "                                        \"插头电线\",\"旧衣服\",\"易拉罐\",\"枕头\",\"毛绒玩具\",\"鞋\",\"砧板\",\"纸盒纸箱\",\"调料瓶\",\"酒瓶\",\"金属食品罐\",\n",
    "                                        \"金属厨具\",\"锅\",\"食用油桶\",\"饮料瓶\",\"书籍纸张\",\"垃圾桶\",\"塑料厨具\",\"毛巾\",\"纸袋\",\"饮料盒\"},\n",
    "                            \"厨余垃圾\": {\"剩饭剩菜\",\"大骨头\",\"果皮果肉\",\"茶叶渣\",\"菜帮菜叶\",\"蛋壳\",\"鱼骨\"},\n",
    "                            \"有害垃圾\": {\"干电池\",\"软膏\",\"过期药物\"},\n",
    "                            \"其他垃圾\": {\"一次性快餐盒\",\"污损塑料\",\"烟蒂\",\"牙签\",\"花盆\",\"陶瓷器皿\",\"筷子\",\"污损用纸\"}}"
   ]
  },
  {
   "cell_type": "code",
   "execution_count": 13,
   "metadata": {},
   "outputs": [],
   "source": [
    "statistic_dic=[('一次性快餐盒', 2), ('纸袋', 1)]\n",
    "results = [' '+str(i[0]) + '：' + str(i[1]) for i in statistic_dic]"
   ]
  },
  {
   "cell_type": "code",
   "execution_count": 14,
   "metadata": {},
   "outputs": [
    {
     "name": "stdout",
     "output_type": "stream",
     "text": [
      "[('一次性快餐盒', 2), ('纸袋', 1)]\n",
      "[' 一次性快餐盒：2', ' 纸袋：1']\n"
     ]
    }
   ],
   "source": [
    "print(statistic_dic)\n",
    "print(results)"
   ]
  },
  {
   "cell_type": "code",
   "execution_count": 16,
   "metadata": {},
   "outputs": [
    {
     "name": "stdout",
     "output_type": "stream",
     "text": [
      "statistic_dic:\n",
      "[('一次性快餐盒', 2), ('可回收物', '纸袋', 1)]\n",
      "curr_results:\n",
      "['一次性快餐盒', '可回收物']\n",
      "0\n",
      "1\n",
      "2\n",
      "3\n",
      "4\n",
      "5\n",
      "6\n",
      "key:\n",
      "其他垃圾\n",
      "val:\n",
      "{'烟蒂', '污损用纸', '陶瓷器皿', '花盆', '筷子', '牙签', '一次性快餐盒', '污损塑料'}\n",
      "trash:\n",
      "一次性快餐盒\n",
      "cls[key]:\n",
      "{'烟蒂', '污损用纸', '陶瓷器皿', '花盆', '筷子', '牙签', '一次性快餐盒', '污损塑料'}\n"
     ]
    },
    {
     "ename": "IndexError",
     "evalue": "list index out of range",
     "output_type": "error",
     "traceback": [
      "\u001b[1;31m---------------------------------------------------------------------------\u001b[0m",
      "\u001b[1;31mIndexError\u001b[0m                                Traceback (most recent call last)",
      "\u001b[1;32m<ipython-input-16-6fa9a78480be>\u001b[0m in \u001b[0;36m<module>\u001b[1;34m\u001b[0m\n\u001b[0;32m     20\u001b[0m             \u001b[0mcurr_dic\u001b[0m\u001b[1;33m=\u001b[0m\u001b[1;33m(\u001b[0m\u001b[0mkey\u001b[0m\u001b[1;33m,\u001b[0m\u001b[1;33m)\u001b[0m\u001b[1;33m\u001b[0m\u001b[1;33m\u001b[0m\u001b[0m\n\u001b[0;32m     21\u001b[0m             \u001b[1;31m# print(curr_dic)\u001b[0m\u001b[1;33m\u001b[0m\u001b[1;33m\u001b[0m\u001b[1;33m\u001b[0m\u001b[0m\n\u001b[1;32m---> 22\u001b[1;33m             \u001b[0mcurr_dic\u001b[0m\u001b[1;33m=\u001b[0m\u001b[0mcurr_dic\u001b[0m\u001b[1;33m+\u001b[0m\u001b[0mstatistic_dic\u001b[0m\u001b[1;33m[\u001b[0m\u001b[0mnum\u001b[0m\u001b[1;33m]\u001b[0m\u001b[1;33m\u001b[0m\u001b[1;33m\u001b[0m\u001b[0m\n\u001b[0m\u001b[0;32m     23\u001b[0m             \u001b[0mstatistic_dic\u001b[0m\u001b[1;33m[\u001b[0m\u001b[0mnum\u001b[0m\u001b[1;33m]\u001b[0m\u001b[1;33m=\u001b[0m\u001b[0mcurr_dic\u001b[0m\u001b[1;33m\u001b[0m\u001b[1;33m\u001b[0m\u001b[0m\n\u001b[0;32m     24\u001b[0m             \u001b[0mnum\u001b[0m\u001b[1;33m=\u001b[0m\u001b[1;33m-\u001b[0m\u001b[1;36m1\u001b[0m\u001b[1;33m\u001b[0m\u001b[1;33m\u001b[0m\u001b[0m\n",
      "\u001b[1;31mIndexError\u001b[0m: list index out of range"
     ]
    }
   ],
   "source": [
    "    curr_results = [str(i[0]) for i in statistic_dic]\n",
    "    print(\"statistic_dic:\")\n",
    "    print(statistic_dic)\n",
    "    print(\"curr_results:\")\n",
    "    print(curr_results)\n",
    "    num=-1\n",
    "    for key, val in cls.items():\n",
    "        for trash in curr_results:\n",
    "            print(\"trash:\")\n",
    "            print(trash)\n",
    "            num=num+1\n",
    "            print(num)\n",
    "            if trash in cls[key]:\n",
    "                print(\"key:\")\n",
    "                print(key)\n",
    "                print(\"val:\")\n",
    "                print(val)\n",
    "                print(\"cls[key]:\")\n",
    "                print(cls[key])\n",
    "                curr_dic=(key,)\n",
    "                # print(curr_dic)\n",
    "                curr_dic=curr_dic+statistic_dic[num]\n",
    "                statistic_dic[num]=curr_dic\n",
    "                num=-1\n",
    "                # print(curr_dic)\n",
    "                # print(statistic_dic)\n",
    "                break"
   ]
  },
  {
   "cell_type": "code",
   "execution_count": 17,
   "metadata": {},
   "outputs": [
    {
     "ename": "IndexError",
     "evalue": "tuple index out of range",
     "output_type": "error",
     "traceback": [
      "\u001b[1;31m---------------------------------------------------------------------------\u001b[0m",
      "\u001b[1;31mIndexError\u001b[0m                                Traceback (most recent call last)",
      "\u001b[1;32m<ipython-input-17-df2b4bd90a39>\u001b[0m in \u001b[0;36m<module>\u001b[1;34m\u001b[0m\n\u001b[1;32m----> 1\u001b[1;33m \u001b[0mresults\u001b[0m \u001b[1;33m=\u001b[0m \u001b[1;33m[\u001b[0m\u001b[0mstr\u001b[0m\u001b[1;33m(\u001b[0m\u001b[0mi\u001b[0m\u001b[1;33m[\u001b[0m\u001b[1;36m0\u001b[0m\u001b[1;33m]\u001b[0m\u001b[1;33m)\u001b[0m \u001b[1;33m+\u001b[0m \u001b[1;34m'-'\u001b[0m\u001b[1;33m+\u001b[0m\u001b[0mstr\u001b[0m\u001b[1;33m(\u001b[0m\u001b[0mi\u001b[0m\u001b[1;33m[\u001b[0m\u001b[1;36m1\u001b[0m\u001b[1;33m]\u001b[0m\u001b[1;33m)\u001b[0m \u001b[1;33m+\u001b[0m \u001b[1;34m'：'\u001b[0m \u001b[1;33m+\u001b[0m \u001b[0mstr\u001b[0m\u001b[1;33m(\u001b[0m\u001b[0mi\u001b[0m\u001b[1;33m[\u001b[0m\u001b[1;36m2\u001b[0m\u001b[1;33m]\u001b[0m\u001b[1;33m)\u001b[0m \u001b[1;32mfor\u001b[0m \u001b[0mi\u001b[0m \u001b[1;32min\u001b[0m \u001b[0mstatistic_dic\u001b[0m\u001b[1;33m]\u001b[0m\u001b[1;33m\u001b[0m\u001b[1;33m\u001b[0m\u001b[0m\n\u001b[0m\u001b[0;32m      2\u001b[0m \u001b[0mprint\u001b[0m\u001b[1;33m(\u001b[0m\u001b[0mresults\u001b[0m\u001b[1;33m)\u001b[0m\u001b[1;33m\u001b[0m\u001b[1;33m\u001b[0m\u001b[0m\n",
      "\u001b[1;32m<ipython-input-17-df2b4bd90a39>\u001b[0m in \u001b[0;36m<listcomp>\u001b[1;34m(.0)\u001b[0m\n\u001b[1;32m----> 1\u001b[1;33m \u001b[0mresults\u001b[0m \u001b[1;33m=\u001b[0m \u001b[1;33m[\u001b[0m\u001b[0mstr\u001b[0m\u001b[1;33m(\u001b[0m\u001b[0mi\u001b[0m\u001b[1;33m[\u001b[0m\u001b[1;36m0\u001b[0m\u001b[1;33m]\u001b[0m\u001b[1;33m)\u001b[0m \u001b[1;33m+\u001b[0m \u001b[1;34m'-'\u001b[0m\u001b[1;33m+\u001b[0m\u001b[0mstr\u001b[0m\u001b[1;33m(\u001b[0m\u001b[0mi\u001b[0m\u001b[1;33m[\u001b[0m\u001b[1;36m1\u001b[0m\u001b[1;33m]\u001b[0m\u001b[1;33m)\u001b[0m \u001b[1;33m+\u001b[0m \u001b[1;34m'：'\u001b[0m \u001b[1;33m+\u001b[0m \u001b[0mstr\u001b[0m\u001b[1;33m(\u001b[0m\u001b[0mi\u001b[0m\u001b[1;33m[\u001b[0m\u001b[1;36m2\u001b[0m\u001b[1;33m]\u001b[0m\u001b[1;33m)\u001b[0m \u001b[1;32mfor\u001b[0m \u001b[0mi\u001b[0m \u001b[1;32min\u001b[0m \u001b[0mstatistic_dic\u001b[0m\u001b[1;33m]\u001b[0m\u001b[1;33m\u001b[0m\u001b[1;33m\u001b[0m\u001b[0m\n\u001b[0m\u001b[0;32m      2\u001b[0m \u001b[0mprint\u001b[0m\u001b[1;33m(\u001b[0m\u001b[0mresults\u001b[0m\u001b[1;33m)\u001b[0m\u001b[1;33m\u001b[0m\u001b[1;33m\u001b[0m\u001b[0m\n",
      "\u001b[1;31mIndexError\u001b[0m: tuple index out of range"
     ]
    }
   ],
   "source": [
    "results = [str(i[0]) + '-'+str(i[1]) + '：' + str(i[2]) for i in statistic_dic]\n",
    "print(results)"
   ]
  },
  {
   "cell_type": "code",
   "execution_count": null,
   "metadata": {},
   "outputs": [],
   "source": []
  }
 ],
 "metadata": {
  "kernelspec": {
   "display_name": "Python 3",
   "language": "python",
   "name": "python3"
  },
  "language_info": {
   "codemirror_mode": {
    "name": "ipython",
    "version": 3
   },
   "file_extension": ".py",
   "mimetype": "text/x-python",
   "name": "python",
   "nbconvert_exporter": "python",
   "pygments_lexer": "ipython3",
   "version": "3.7.6"
  }
 },
 "nbformat": 4,
 "nbformat_minor": 4
}
