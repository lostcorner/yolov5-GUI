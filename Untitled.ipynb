{
 "cells": [
  {
   "cell_type": "code",
   "execution_count": 44,
   "metadata": {},
   "outputs": [],
   "source": [
    "cls={\"可回收物\": {\"充电宝\",\"包\",\"洗护用品\",\"塑料玩具\",\"塑料器皿\",\"塑料衣架\",\"玻璃器皿\",\"金属器皿\",\"快递纸袋\",\n",
    "                                        \"插头电线\",\"旧衣服\",\"易拉罐\",\"枕头\",\"毛绒玩具\",\"鞋\",\"砧板\",\"纸盒纸箱\",\"调料瓶\",\"酒瓶\",\"金属食品罐\",\n",
    "                                        \"金属厨具\",\"锅\",\"食用油桶\",\"饮料瓶\",\"书籍纸张\",\"垃圾桶\",\"塑料厨具\",\"毛巾\",\"纸袋\",\"饮料盒\"},\n",
    "                            \"厨余垃圾\": {\"剩饭剩菜\",\"大骨头\",\"果皮果肉\",\"茶叶渣\",\"菜帮菜叶\",\"蛋壳\",\"鱼骨\"},\n",
    "                            \"有害垃圾\": {\"干电池\",\"软膏\",\"过期药物\"},\n",
    "                            \"其他垃圾\": {\"一次性快餐盒\",\"污损塑料\",\"烟蒂\",\"牙签\",\"花盆\",\"陶瓷器皿\",\"筷子\",\"污损用纸\"}}"
   ]
  },
  {
   "cell_type": "code",
   "execution_count": 45,
   "metadata": {},
   "outputs": [],
   "source": [
    "statistic_dic=[('一次性快餐盒', 2), ('纸袋', 1)]\n",
    "results = [' '+str(i[0]) + '：' + str(i[1]) for i in statistic_dic]"
   ]
  },
  {
   "cell_type": "code",
   "execution_count": 46,
   "metadata": {},
   "outputs": [
    {
     "name": "stdout",
     "output_type": "stream",
     "text": [
      "[('一次性快餐盒', 2), ('纸袋', 1)]\n",
      "[' 一次性快餐盒：2', ' 纸袋：1']\n"
     ]
    }
   ],
   "source": [
    "print(statistic_dic)\n",
    "print(results)"
   ]
  },
  {
   "cell_type": "code",
   "execution_count": 47,
   "metadata": {},
   "outputs": [
    {
     "name": "stdout",
     "output_type": "stream",
     "text": [
      "sum: 2\n",
      "trash: 一次性快餐盒\n",
      "0\n",
      "trash: 纸袋\n",
      "1\n",
      "key: 可回收物\n",
      "val: {'塑料玩具', '包', '玻璃器皿', '纸袋', '食用油桶', '饮料盒', '酒瓶', '鞋', '金属厨具', '锅', '毛巾', '金属器皿', '洗护用品', '砧板', '饮料瓶', '垃圾桶', '旧衣服', '枕头', '快递纸袋', '纸盒纸箱', '易拉罐', '毛绒玩具', '调料瓶', '塑料器皿', '插头电线', '塑料厨具', '充电宝', '金属食品罐', '书籍纸张', '塑料衣架'}\n",
      "cls[key]: {'塑料玩具', '包', '玻璃器皿', '纸袋', '食用油桶', '饮料盒', '酒瓶', '鞋', '金属厨具', '锅', '毛巾', '金属器皿', '洗护用品', '砧板', '饮料瓶', '垃圾桶', '旧衣服', '枕头', '快递纸袋', '纸盒纸箱', '易拉罐', '毛绒玩具', '调料瓶', '塑料器皿', '插头电线', '塑料厨具', '充电宝', '金属食品罐', '书籍纸张', '塑料衣架'}\n",
      "statistic_dic: [('一次性快餐盒', 2), ('可回收物', '纸袋', 1)]\n",
      "trash: 一次性快餐盒\n",
      "0\n",
      "trash: 纸袋\n",
      "1\n",
      "trash: 一次性快餐盒\n",
      "0\n",
      "trash: 纸袋\n",
      "1\n",
      "trash: 一次性快餐盒\n",
      "0\n",
      "key: 其他垃圾\n",
      "val: {'烟蒂', '污损用纸', '陶瓷器皿', '花盆', '筷子', '牙签', '一次性快餐盒', '污损塑料'}\n",
      "cls[key]: {'烟蒂', '污损用纸', '陶瓷器皿', '花盆', '筷子', '牙签', '一次性快餐盒', '污损塑料'}\n",
      "statistic_dic: [('其他垃圾', '一次性快餐盒', 2), ('可回收物', '纸袋', 1)]\n"
     ]
    }
   ],
   "source": [
    "    curr_results = [str(i[0]) for i in statistic_dic]\n",
    "    sum=len(statistic_dic)\n",
    "    num=-1\n",
    "    for key, val in cls.items():\n",
    "        for trash in curr_results:\n",
    "            print(\"trash:\",trash)\n",
    "            if num==sum-1:\n",
    "                num=0\n",
    "            else:\n",
    "                num=num+1\n",
    "            if trash in cls[key]:\n",
    "                curr_dic=(key,)\n",
    "                curr_dic=curr_dic+statistic_dic[num]\n",
    "                statistic_dic[num]=curr_dic\n",
    "                print(\"statistic_dic:\",statistic_dic)\n",
    "                num=-1\n",
    "                break"
   ]
  },
  {
   "cell_type": "code",
   "execution_count": 48,
   "metadata": {},
   "outputs": [
    {
     "name": "stdout",
     "output_type": "stream",
     "text": [
      "['其他垃圾-一次性快餐盒：2', '可回收物-纸袋：1']\n"
     ]
    }
   ],
   "source": [
    "results = [str(i[0]) + '-'+str(i[1]) + '：' + str(i[2]) for i in statistic_dic]\n",
    "print(results)"
   ]
  },
  {
   "cell_type": "code",
   "execution_count": null,
   "metadata": {},
   "outputs": [],
   "source": []
  }
 ],
 "metadata": {
  "kernelspec": {
   "display_name": "Python 3",
   "language": "python",
   "name": "python3"
  },
  "language_info": {
   "codemirror_mode": {
    "name": "ipython",
    "version": 3
   },
   "file_extension": ".py",
   "mimetype": "text/x-python",
   "name": "python",
   "nbconvert_exporter": "python",
   "pygments_lexer": "ipython3",
   "version": "3.7.6"
  }
 },
 "nbformat": 4,
 "nbformat_minor": 4
}
