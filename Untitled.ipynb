{
 "cells": [
  {
   "cell_type": "code",
   "execution_count": 1,
   "metadata": {},
   "outputs": [],
   "source": [
    "cls={\"可回收物\": {\"充电宝\",\"包\",\"洗护用品\",\"塑料玩具\",\"塑料器皿\",\"塑料衣架\",\"玻璃器皿\",\"金属器皿\",\"快递纸袋\",\n",
    "                                        \"插头电线\",\"旧衣服\",\"易拉罐\",\"枕头\",\"毛绒玩具\",\"鞋\",\"砧板\",\"纸盒纸箱\",\"调料瓶\",\"酒瓶\",\"金属食品罐\",\n",
    "                                        \"金属厨具\",\"锅\",\"食用油桶\",\"饮料瓶\",\"书籍纸张\",\"垃圾桶\",\"塑料厨具\",\"毛巾\",\"纸袋\",\"饮料盒\"},\n",
    "                            \"厨余垃圾\": {\"剩饭剩菜\",\"大骨头\",\"果皮果肉\",\"茶叶渣\",\"菜帮菜叶\",\"蛋壳\",\"鱼骨\"},\n",
    "                            \"有害垃圾\": {\"干电池\",\"软膏\",\"过期药物\"},\n",
    "                            \"其他垃圾\": {\"一次性快餐盒\",\"污损塑料\",\"烟蒂\",\"牙签\",\"花盆\",\"陶瓷器皿\",\"筷子\",\"污损用纸\"}}"
   ]
  },
  {
   "cell_type": "code",
   "execution_count": 2,
   "metadata": {},
   "outputs": [],
   "source": [
    "statistic_dic=[('毛巾', 1), ('一次性快餐盒', 1)]\n",
    "results = [' '+str(i[0]) + '：' + str(i[1]) for i in statistic_dic]"
   ]
  },
  {
   "cell_type": "code",
   "execution_count": 3,
   "metadata": {},
   "outputs": [
    {
     "name": "stdout",
     "output_type": "stream",
     "text": [
      "[('毛巾', 1), ('一次性快餐盒', 1)]\n",
      "[' 毛巾：1', ' 一次性快餐盒：1']\n"
     ]
    }
   ],
   "source": [
    "print(statistic_dic)\n",
    "print(results)"
   ]
  },
  {
   "cell_type": "code",
   "execution_count": 4,
   "metadata": {},
   "outputs": [
    {
     "name": "stdout",
     "output_type": "stream",
     "text": [
      "可回收物\n",
      "其他垃圾\n"
     ]
    }
   ],
   "source": [
    "curr_results = [str(i[0]) for i in statistic_dic]\n",
    "#     print(province.items())\n",
    "for key, val in cls.items():\n",
    "    for trash in curr_results:\n",
    "        if trash in cls[key]:\n",
    "            results = [key + '-'+str(i[0]) + '：' + str(i[1]) for i in statistic_dic]\n",
    "            print(key)\n",
    "            break"
   ]
  },
  {
   "cell_type": "code",
   "execution_count": 5,
   "metadata": {},
   "outputs": [
    {
     "data": {
      "text/plain": [
       "list"
      ]
     },
     "execution_count": 5,
     "metadata": {},
     "output_type": "execute_result"
    }
   ],
   "source": [
    "type(results)"
   ]
  },
  {
   "cell_type": "code",
   "execution_count": 6,
   "metadata": {},
   "outputs": [
    {
     "name": "stdout",
     "output_type": "stream",
     "text": [
      "['其他垃圾-毛巾：1', '其他垃圾-一次性快餐盒：1']\n"
     ]
    }
   ],
   "source": [
    "print(results)"
   ]
  },
  {
   "cell_type": "code",
   "execution_count": 7,
   "metadata": {},
   "outputs": [
    {
     "name": "stdout",
     "output_type": "stream",
     "text": [
      "其他垃圾-毛巾：1\n"
     ]
    }
   ],
   "source": [
    "print(results[0])"
   ]
  },
  {
   "cell_type": "code",
   "execution_count": null,
   "metadata": {},
   "outputs": [],
   "source": []
  }
 ],
 "metadata": {
  "kernelspec": {
   "display_name": "Python 3",
   "language": "python",
   "name": "python3"
  },
  "language_info": {
   "codemirror_mode": {
    "name": "ipython",
    "version": 3
   },
   "file_extension": ".py",
   "mimetype": "text/x-python",
   "name": "python",
   "nbconvert_exporter": "python",
   "pygments_lexer": "ipython3",
   "version": "3.7.6"
  }
 },
 "nbformat": 4,
 "nbformat_minor": 4
}
