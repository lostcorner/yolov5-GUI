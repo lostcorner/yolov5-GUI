{
 "cells": [
  {
   "cell_type": "code",
   "execution_count": 2,
   "metadata": {},
   "outputs": [],
   "source": [
    "class Annotator:\n",
    "    # YOLOv5 Annotator for train/val mosaics and jpgs and detect/hub inference annotations\n",
    "    def __init__(self, im, line_width=None, font_size=None, font='Arial.ttf', pil=False, example='abc'):\n",
    "        assert im.data.contiguous, 'Image not contiguous. Apply np.ascontiguousarray(im) to Annotator() input images.'\n",
    "        non_ascii = not is_ascii(example)  # non-latin labels, i.e. asian, arabic, cyrillic\n",
    "        self.pil = pil or non_ascii\n",
    "        if self.pil:  # use PIL\n",
    "            self.im = im if isinstance(im, Image.Image) else Image.fromarray(im)\n",
    "            self.draw = ImageDraw.Draw(self.im)\n",
    "            self.font = check_pil_font(font='Arial.Unicode.ttf' if non_ascii else font,\n",
    "                                       size=font_size or max(round(sum(self.im.size) / 2 * 0.035), 12))\n",
    "        else:  # use cv2\n",
    "            self.im = im\n",
    "        self.lw = line_width or max(round(sum(im.shape) / 2 * 0.003), 2)  # line width\n",
    "\n",
    "    def box_label(self, box, label='', color=(128, 128, 128), txt_color=(255, 255, 255)):\n",
    "        # Add one xyxy box to image with label\n",
    "        if self.pil or not is_ascii(label):\n",
    "            self.draw.rectangle(box, width=self.lw, outline=color)  # box\n",
    "            if label:\n",
    "                w, h = self.font.getsize(label)  # text width, height\n",
    "                outside = box[1] - h >= 0  # label fits outside box\n",
    "                self.draw.rectangle(\n",
    "                    (box[0], box[1] - h if outside else box[1], box[0] + w + 1,\n",
    "                     box[1] + 1 if outside else box[1] + h + 1),\n",
    "                    fill=color,\n",
    "                )\n",
    "                # self.draw.text((box[0], box[1]), label, fill=txt_color, font=self.font, anchor='ls')  # for PIL>8.0\n",
    "                self.draw.text((box[0], box[1] - h if outside else box[1]), label, fill=txt_color, font=self.font)\n",
    "        else:  # cv2\n",
    "            p1, p2 = (int(box[0]), int(box[1])), (int(box[2]), int(box[3]))\n",
    "            cv2.rectangle(self.im, p1, p2, color, thickness=self.lw, lineType=cv2.LINE_AA)\n",
    "            if label:\n",
    "                tf = max(self.lw - 1, 1)  # font thickness\n",
    "                w, h = cv2.getTextSize(label, 0, fontScale=self.lw / 3, thickness=tf)[0]  # text width, height\n",
    "                outside = p1[1] - h - 3 >= 0  # label fits outside box\n",
    "                p2 = p1[0] + w, p1[1] - h - 3 if outside else p1[1] + h + 3\n",
    "                cv2.rectangle(self.im, p1, p2, color, -1, cv2.LINE_AA)  # filled\n",
    "                cv2.putText(self.im,\n",
    "                            label, (p1[0], p1[1] - 2 if outside else p1[1] + h + 2),\n",
    "                            0,\n",
    "                            self.lw / 3,\n",
    "                            txt_color,\n",
    "                            thickness=tf,\n",
    "                            lineType=cv2.LINE_AA)"
   ]
  },
  {
   "cell_type": "code",
   "execution_count": 3,
   "metadata": {},
   "outputs": [
    {
     "ename": "NameError",
     "evalue": "name 'im0' is not defined",
     "output_type": "error",
     "traceback": [
      "\u001b[1;31m---------------------------------------------------------------------------\u001b[0m",
      "\u001b[1;31mNameError\u001b[0m                                 Traceback (most recent call last)",
      "\u001b[1;32m<ipython-input-3-338ae0c74e04>\u001b[0m in \u001b[0;36m<module>\u001b[1;34m\u001b[0m\n\u001b[1;32m----> 1\u001b[1;33m \u001b[0mannotator\u001b[0m \u001b[1;33m=\u001b[0m \u001b[0mAnnotator\u001b[0m\u001b[1;33m(\u001b[0m\u001b[0mim0\u001b[0m\u001b[1;33m,\u001b[0m \u001b[0mline_width\u001b[0m\u001b[1;33m=\u001b[0m\u001b[0mline_thickness\u001b[0m\u001b[1;33m,\u001b[0m \u001b[0mexample\u001b[0m\u001b[1;33m=\u001b[0m\u001b[0mstr\u001b[0m\u001b[1;33m(\u001b[0m\u001b[0mnames\u001b[0m\u001b[1;33m)\u001b[0m\u001b[1;33m)\u001b[0m\u001b[1;33m\u001b[0m\u001b[1;33m\u001b[0m\u001b[0m\n\u001b[0m",
      "\u001b[1;31mNameError\u001b[0m: name 'im0' is not defined"
     ]
    }
   ],
   "source": [
    "im0\n",
    "annotator = Annotator(im0, line_width=line_thickness, example=str(names))"
   ]
  },
  {
   "cell_type": "code",
   "execution_count": null,
   "metadata": {},
   "outputs": [],
   "source": []
  }
 ],
 "metadata": {
  "kernelspec": {
   "display_name": "Python 3",
   "language": "python",
   "name": "python3"
  },
  "language_info": {
   "codemirror_mode": {
    "name": "ipython",
    "version": 3
   },
   "file_extension": ".py",
   "mimetype": "text/x-python",
   "name": "python",
   "nbconvert_exporter": "python",
   "pygments_lexer": "ipython3",
   "version": "3.7.6"
  }
 },
 "nbformat": 4,
 "nbformat_minor": 4
}
