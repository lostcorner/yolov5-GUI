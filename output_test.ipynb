{
 "cells": [
  {
   "cell_type": "code",
   "execution_count": 24,
   "metadata": {},
   "outputs": [],
   "source": [
    "cls={\"可回收物\": {\"充电宝\",\"包\",\"洗护用品\",\"塑料玩具\",\"塑料器皿\",\"塑料衣架\",\"玻璃器皿\",\"金属器皿\",\"快递纸袋\",\n",
    "                                        \"插头电线\",\"旧衣服\",\"易拉罐\",\"枕头\",\"毛绒玩具\",\"鞋\",\"砧板\",\"纸盒纸箱\",\"调料瓶\",\"酒瓶\",\"金属食品罐\",\n",
    "                                        \"金属厨具\",\"锅\",\"食用油桶\",\"饮料瓶\",\"书籍纸张\",\"垃圾桶\",\"塑料厨具\",\"毛巾\",\"纸袋\",\"饮料盒\"},\n",
    "                            \"厨余垃圾\": {\"剩饭剩菜\",\"大骨头\",\"果皮果肉\",\"茶叶渣\",\"菜帮菜叶\",\"蛋壳\",\"鱼骨\"},\n",
    "                            \"有害垃圾\": {\"干电池\",\"软膏\",\"过期药物\"},\n",
    "                            \"其他垃圾\": {\"一次性快餐盒\",\"污损塑料\",\"烟蒂\",\"牙签\",\"花盆\",\"陶瓷器皿\",\"筷子\",\"污损用纸\"}}"
   ]
  },
  {
   "cell_type": "code",
   "execution_count": 25,
   "metadata": {},
   "outputs": [],
   "source": [
    "statistic_dic=[('过期药物', 4), ('塑料器皿', 2), ('书籍纸张', 1)]\n",
    "results = [' '+str(i[0]) + '：' + str(i[1]) for i in statistic_dic]"
   ]
  },
  {
   "cell_type": "code",
   "execution_count": 26,
   "metadata": {},
   "outputs": [
    {
     "name": "stdout",
     "output_type": "stream",
     "text": [
      "[('过期药物', 4), ('塑料器皿', 2), ('书籍纸张', 1)]\n",
      "[' 过期药物：4', ' 塑料器皿：2', ' 书籍纸张：1']\n"
     ]
    }
   ],
   "source": [
    "print(statistic_dic)\n",
    "print(results)"
   ]
  },
  {
   "cell_type": "code",
   "execution_count": 27,
   "metadata": {},
   "outputs": [
    {
     "name": "stdout",
     "output_type": "stream",
     "text": [
      "sum: 3\n",
      "num: 0\n",
      "trash: 过期药物\n",
      "key: 可回收物\n",
      "num: 1\n",
      "trash: 塑料器皿\n",
      "key: 可回收物\n",
      "statistic_dic: [('过期药物', 4), ('可回收物', '塑料器皿', 2), ('书籍纸张', 1)]\n",
      "num: 2\n",
      "trash: 书籍纸张\n",
      "key: 可回收物\n",
      "statistic_dic: [('过期药物', 4), ('可回收物', '塑料器皿', 2), ('可回收物', '书籍纸张', 1)]\n",
      "num: 0\n",
      "trash: 过期药物\n",
      "key: 厨余垃圾\n",
      "num: 1\n",
      "trash: 塑料器皿\n",
      "key: 厨余垃圾\n",
      "num: 2\n",
      "trash: 书籍纸张\n",
      "key: 厨余垃圾\n",
      "num: 0\n",
      "trash: 过期药物\n",
      "key: 有害垃圾\n",
      "statistic_dic: [('有害垃圾', '过期药物', 4), ('可回收物', '塑料器皿', 2), ('可回收物', '书籍纸张', 1)]\n",
      "num: 1\n",
      "trash: 塑料器皿\n",
      "key: 有害垃圾\n",
      "num: 2\n",
      "trash: 书籍纸张\n",
      "key: 有害垃圾\n",
      "num: 0\n",
      "trash: 过期药物\n",
      "key: 其他垃圾\n",
      "num: 1\n",
      "trash: 塑料器皿\n",
      "key: 其他垃圾\n",
      "num: 2\n",
      "trash: 书籍纸张\n",
      "key: 其他垃圾\n"
     ]
    }
   ],
   "source": [
    "    curr_results = [str(i[0]) for i in statistic_dic]\n",
    "    sum=len(statistic_dic)\n",
    "    print(\"sum:\",sum)\n",
    "    num=-1\n",
    "    for key, val in cls.items():\n",
    "        for trash in curr_results:\n",
    "            if num==sum-1:\n",
    "                num=0\n",
    "            else:\n",
    "                num=num+1\n",
    "            print(\"num:\",num)\n",
    "            print(\"trash:\",trash)\n",
    "            print(\"key:\",key)\n",
    "#             print(\"val:\",val)\n",
    "            if trash in cls[key]:\n",
    "                curr_dic=(key,)\n",
    "                curr_dic=curr_dic+statistic_dic[num]\n",
    "                statistic_dic[num]=curr_dic\n",
    "                print(\"statistic_dic:\",statistic_dic)\n",
    "#                 num=-1\n",
    "#                 break"
   ]
  },
  {
   "cell_type": "code",
   "execution_count": 28,
   "metadata": {},
   "outputs": [
    {
     "name": "stdout",
     "output_type": "stream",
     "text": [
      "['有害垃圾-过期药物：4', '可回收物-塑料器皿：2', '可回收物-书籍纸张：1']\n"
     ]
    }
   ],
   "source": [
    "results = [str(i[0]) + '-'+str(i[1]) + '：' + str(i[2]) for i in statistic_dic]\n",
    "print(results)"
   ]
  },
  {
   "cell_type": "code",
   "execution_count": null,
   "metadata": {},
   "outputs": [],
   "source": []
  }
 ],
 "metadata": {
  "kernelspec": {
   "display_name": "Python 3",
   "language": "python",
   "name": "python3"
  },
  "language_info": {
   "codemirror_mode": {
    "name": "ipython",
    "version": 3
   },
   "file_extension": ".py",
   "mimetype": "text/x-python",
   "name": "python",
   "nbconvert_exporter": "python",
   "pygments_lexer": "ipython3",
   "version": "3.7.6"
  }
 },
 "nbformat": 4,
 "nbformat_minor": 4
}
